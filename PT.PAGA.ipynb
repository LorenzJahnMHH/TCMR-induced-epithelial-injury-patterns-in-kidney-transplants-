{
 "cells": [
  {
   "cell_type": "code",
   "execution_count": null,
   "id": "4b1f798e-a0d8-4be3-b14f-4a5b54a6d20e",
   "metadata": {},
   "outputs": [
    {
     "name": "stdout",
     "output_type": "stream",
     "text": [
      "['healthyPT', 'PT Injury m3', 'PT Injury m2', 'PT prolif', 'PT Injury m4', 'PT Injury m1']\n",
      "Categories (6, object): ['PT Injury m1', 'PT Injury m2', 'PT Injury m3', 'PT Injury m4', 'PT prolif', 'healthyPT']\n"
     ]
    }
   ],
   "source": [
    "import scanpy as sc\n",
    "import matplotlib.pyplot as plt\n",
    "import os\n",
    "\n",
    "os.chdir(r'D:\\R_Ordner\\KTx Daten')\n",
    "\n",
    "adata_pt = sc.read_h5ad(\"D:/R_Ordner/KTx Daten/Ktx Objekte final/Maus/pt_mouse.h5ad\")\n",
    "\n",
    "healthy_pt_clusters = ['PT S1', 'PT S2', 'PT S3', 'PT S3 med.']\n",
    "adata_pt.obs['largersubct'] = adata_pt.obs['celltype_to_plot'].apply(\n",
    "    lambda x: 'healthyPT' if x in healthy_pt_clusters else x\n",
    ")\n",
    "adata_pt.obs['largersubct'] = adata_pt.obs['largersubct'].astype('category')\n",
    "\n",
    "print(adata_pt.obs['largersubct'].unique())\n",
    "\n",
    "sc.pp.highly_variable_genes(adata_pt, flavor=\"seurat\", n_top_genes=500)\n",
    "sc.tl.pca(adata_pt, mask_var=\"highly_variable\")\n",
    "sc.pp.neighbors(adata_pt, n_pcs=30)\n",
    "sc.tl.diffmap(adata_pt)\n",
    "# adapt to umap architecture\n",
    "root_cells = adata_pt.obs[adata_pt.obs['celltype_to_plot'] == 'PT S3 med.'].index\n",
    "adata_pt = adata_pt[root_cells.tolist() + [c for c in adata_pt.obs.index if c not in root_cells], :].copy()\n",
    "adata_pt.uns['iroot'] = 0  \n",
    "\n",
    "sc.tl.paga(adata_pt, groups='largersubct')\n",
    "sc.tl.dpt(adata_pt)\n",
    "\n",
    "sc.set_figure_params(figsize=(5, 5), dpi=170)\n",
    "\n",
    "ax = sc.pl.paga(\n",
    "    adata_pt,\n",
    "    color='dpt_pseudotime',\n",
    "    node_size_scale=5,\n",
    "    edge_width_scale=1,\n",
    "    threshold=0.15,\n",
    "    cmap='viridis',\n",
    "    frameon=False,\n",
    "    labels=None,\n",
    "    show=False  \n",
    ")\n",
    "\n",
    "\n",
    "for cax in ax.figure.axes:\n",
    "    if cax != ax:\n",
    "        cax.remove()\n",
    "\n",
    "plt.savefig(\"PT_plot_no_labels_no_legend.png\", dpi=170, bbox_inches=\"tight\")\n",
    "plt.show()"
   ]
  },
  {
   "cell_type": "code",
   "execution_count": null,
   "id": "d0282e40-11f0-48cc-870d-fbf1a2573517",
   "metadata": {},
   "outputs": [],
   "source": []
  }
 ],
 "metadata": {
  "kernelspec": {
   "display_name": "Python 3 (ipykernel)",
   "language": "python",
   "name": "python3"
  },
  "language_info": {
   "codemirror_mode": {
    "name": "ipython",
    "version": 3
   },
   "file_extension": ".py",
   "mimetype": "text/x-python",
   "name": "python",
   "nbconvert_exporter": "python",
   "pygments_lexer": "ipython3",
   "version": "3.13.6"
  }
 },
 "nbformat": 4,
 "nbformat_minor": 5
}
