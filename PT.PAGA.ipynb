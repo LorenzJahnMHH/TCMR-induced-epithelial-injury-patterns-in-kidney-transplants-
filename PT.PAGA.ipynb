{
 "cells": [
  {
   "cell_type": "code",
   "execution_count": 1,
   "id": "fe1e2c4e-ad15-4ce5-a8a8-33080c3db43d",
   "metadata": {},
   "outputs": [],
   "source": [
    "import scanpy as sc\n",
    "import numpy as np\n",
    "import random\n",
    "\n",
    "random.seed(0)"
   ]
  },
  {
   "cell_type": "code",
   "execution_count": 8,
   "id": "e6fac1a4-8624-45cc-8979-219fb3d75fa2",
   "metadata": {},
   "outputs": [
    {
     "name": "stdout",
     "output_type": "stream",
     "text": [
      "D:\\R_Ordner\\KTx Daten\n"
     ]
    }
   ],
   "source": [
    "import os\n",
    "os.chdir(r'D:\\R_Ordner\\KTx Daten')\n",
    "import os\n",
    "print(os.path.abspath(\"\")) \n"
   ]
  },
  {
   "cell_type": "code",
   "execution_count": null,
   "id": "357fb548-98f1-43c1-8789-1ecd00440732",
   "metadata": {},
   "outputs": [],
   "source": []
  },
  {
   "cell_type": "code",
   "execution_count": null,
   "id": "84e3b7fe-b459-4312-9edb-15e205f726e2",
   "metadata": {},
   "outputs": [],
   "source": []
  },
  {
   "cell_type": "code",
   "execution_count": 3,
   "id": "30807ffb-d451-4667-a8d3-81d479e2b1b9",
   "metadata": {},
   "outputs": [],
   "source": [
    "# transfer PT subclustered object to h5ad\n",
    "adata_pt = sc.read_h5ad(\"D:/R_Ordner/KTx Daten/Ktx Objekte final/Maus/pt_mouse.h5ad\")\n"
   ]
  },
  {
   "cell_type": "code",
   "execution_count": 9,
   "id": "cf90cd8f-7270-4864-ac22-f06c443ebe8f",
   "metadata": {},
   "outputs": [
    {
     "name": "stdout",
     "output_type": "stream",
     "text": [
      "['healthyPT' 'PT Injury m3' 'PT Injury m2' 'PT prolif' 'PT Injury m4'\n",
      " 'PT Injury m1']\n"
     ]
    },
    {
     "name": "stderr",
     "output_type": "stream",
     "text": [
      "C:\\Users\\warum\\AppData\\Local\\Temp\\ipykernel_4684\\1084421438.py:17: ImplicitModificationWarning: Trying to modify attribute `._uns` of view, initializing view as actual.\n",
      "  adata_pt.uns['iroot'] = 0\n"
     ]
    }
   ],
   "source": [
    "\n",
    "healthy_pt_clusters = ['PT S1', 'PT S2', 'PT S3', 'PT S3 med.']\n",
    "\n",
    "adata_pt.obs['largersubct'] = adata_pt.obs['celltype_to_plot'].apply(\n",
    "    lambda x: 'healthyPT' if x in healthy_pt_clusters else x\n",
    ")\n",
    "\n",
    "print(adata_pt.obs['largersubct'].unique())\n",
    "sc.pp.highly_variable_genes(adata_pt, flavor=\"seurat\", n_top_genes=500)\n",
    "sc.tl.pca(adata_pt, mask_var=\"highly_variable\")\n",
    "\n",
    "sc.pp.neighbors(adata_pt, n_pcs=30)\n",
    "\n",
    "sc.tl.diffmap(adata_pt)\n",
    "# adapt for umap architechture\n",
    "root_cells = adata_pt.obs[adata_pt.obs['celltype_to_plot'] == 'PT S3 med.'].index\n",
    "adata_pt = adata_pt[root_cells.tolist() + [cell for cell in adata_pt.obs.index if cell not in root_cells], :]\n",
    "adata_pt.uns['iroot'] = 0  \n",
    "\n",
    "sc.tl.paga(adata_pt, groups='largersubct')\n",
    "sc.tl.dpt(adata_pt)\n",
    "sc.pl.paga(adata_pt, color='dpt_pseudotime', node_size_scale=6, edge_width_scale=1, threshold=0.15, cmap='viridis',  frameon=False)\n",
    "# normalize for plotting"
   ]
  },
  {
   "cell_type": "code",
   "execution_count": null,
   "id": "3cf3a6e8-a7a5-4d8e-9016-a6ca6462dc2c",
   "metadata": {},
   "outputs": [],
   "source": []
  },
  {
   "cell_type": "code",
   "execution_count": 10,
   "id": "01c4a475-31e5-4692-833b-26b09f980f80",
   "metadata": {},
   "outputs": [
    {
     "ename": "AttributeError",
     "evalue": "Can only use .cat accessor with a 'category' dtype",
     "output_type": "error",
     "traceback": [
      "\u001b[31m---------------------------------------------------------------------------\u001b[39m",
      "\u001b[31mAttributeError\u001b[39m                            Traceback (most recent call last)",
      "\u001b[36mCell\u001b[39m\u001b[36m \u001b[39m\u001b[32mIn[10]\u001b[39m\u001b[32m, line 5\u001b[39m\n\u001b[32m      1\u001b[39m \u001b[38;5;28;01mimport\u001b[39;00m\u001b[38;5;250m \u001b[39m\u001b[34;01mscanpy\u001b[39;00m\u001b[38;5;250m \u001b[39m\u001b[38;5;28;01mas\u001b[39;00m\u001b[38;5;250m \u001b[39m\u001b[34;01msc\u001b[39;00m\n\u001b[32m      4\u001b[39m sc.set_figure_params(figsize=(\u001b[32m5\u001b[39m, \u001b[32m5\u001b[39m), dpi=\u001b[32m170\u001b[39m)\n\u001b[32m----> \u001b[39m\u001b[32m5\u001b[39m \u001b[43msc\u001b[49m\u001b[43m.\u001b[49m\u001b[43mpl\u001b[49m\u001b[43m.\u001b[49m\u001b[43mpaga\u001b[49m\u001b[43m(\u001b[49m\u001b[43madata_pt\u001b[49m\u001b[43m,\u001b[49m\u001b[43m \u001b[49m\n\u001b[32m      6\u001b[39m \u001b[43m           \u001b[49m\u001b[43mcolor\u001b[49m\u001b[43m=\u001b[49m\u001b[33;43m'\u001b[39;49m\u001b[33;43mdpt_pseudotime\u001b[39;49m\u001b[33;43m'\u001b[39;49m\u001b[43m,\u001b[49m\u001b[43m \u001b[49m\n\u001b[32m      7\u001b[39m \u001b[43m           \u001b[49m\u001b[43mnode_size_scale\u001b[49m\u001b[43m=\u001b[49m\u001b[32;43m5\u001b[39;49m\u001b[43m,\u001b[49m\u001b[43m \u001b[49m\n\u001b[32m      8\u001b[39m \u001b[43m           \u001b[49m\u001b[43medge_width_scale\u001b[49m\u001b[43m=\u001b[49m\u001b[32;43m1\u001b[39;49m\u001b[43m,\u001b[49m\u001b[43m \u001b[49m\n\u001b[32m      9\u001b[39m \u001b[43m           \u001b[49m\u001b[43mthreshold\u001b[49m\u001b[43m=\u001b[49m\u001b[32;43m0.15\u001b[39;49m\u001b[43m,\u001b[49m\u001b[43m \u001b[49m\n\u001b[32m     10\u001b[39m \u001b[43m           \u001b[49m\u001b[43mcmap\u001b[49m\u001b[43m=\u001b[49m\u001b[33;43m'\u001b[39;49m\u001b[33;43mviridis\u001b[39;49m\u001b[33;43m'\u001b[39;49m\u001b[43m,\u001b[49m\u001b[43m \u001b[49m\n\u001b[32m     11\u001b[39m \u001b[43m           \u001b[49m\u001b[43msave\u001b[49m\u001b[43m=\u001b[49m\u001b[33;43m'\u001b[39;49m\u001b[33;43m_PT_plot_no_labels_no_legend.png\u001b[39;49m\u001b[33;43m'\u001b[39;49m\u001b[43m,\u001b[49m\u001b[43m \u001b[49m\n\u001b[32m     12\u001b[39m \u001b[43m           \u001b[49m\u001b[43mframeon\u001b[49m\u001b[43m=\u001b[49m\u001b[38;5;28;43;01mFalse\u001b[39;49;00m\u001b[43m,\u001b[49m\u001b[43m \u001b[49m\n\u001b[32m     13\u001b[39m \u001b[43m           \u001b[49m\u001b[43mlabels\u001b[49m\u001b[43m=\u001b[49m\u001b[38;5;28;43;01mNone\u001b[39;49;00m\u001b[43m,\u001b[49m\u001b[43m   \u001b[49m\n\u001b[32m     14\u001b[39m \u001b[43m           \u001b[49m\u001b[43mcolorbar\u001b[49m\u001b[43m=\u001b[49m\u001b[38;5;28;43;01mFalse\u001b[39;49;00m\u001b[43m)\u001b[49m  \n",
      "\u001b[36mFile \u001b[39m\u001b[32m~\\AppData\\Local\\Programs\\Python\\Python313\\Lib\\site-packages\\legacy_api_wrap\\__init__.py:82\u001b[39m, in \u001b[36mlegacy_api.<locals>.wrapper.<locals>.fn_compatible\u001b[39m\u001b[34m(*args_all, **kw)\u001b[39m\n\u001b[32m     79\u001b[39m \u001b[38;5;129m@wraps\u001b[39m(fn)\n\u001b[32m     80\u001b[39m \u001b[38;5;28;01mdef\u001b[39;00m\u001b[38;5;250m \u001b[39m\u001b[34mfn_compatible\u001b[39m(*args_all: P.args, **kw: P.kwargs) -> R:\n\u001b[32m     81\u001b[39m     \u001b[38;5;28;01mif\u001b[39;00m \u001b[38;5;28mlen\u001b[39m(args_all) <= n_positional:\n\u001b[32m---> \u001b[39m\u001b[32m82\u001b[39m         \u001b[38;5;28;01mreturn\u001b[39;00m \u001b[43mfn\u001b[49m\u001b[43m(\u001b[49m\u001b[43m*\u001b[49m\u001b[43margs_all\u001b[49m\u001b[43m,\u001b[49m\u001b[43m \u001b[49m\u001b[43m*\u001b[49m\u001b[43m*\u001b[49m\u001b[43mkw\u001b[49m\u001b[43m)\u001b[49m\n\u001b[32m     84\u001b[39m     args_pos: P.args\n\u001b[32m     85\u001b[39m     args_pos, args_rest = args_all[:n_positional], args_all[n_positional:]\n",
      "\u001b[36mFile \u001b[39m\u001b[32m~\\AppData\\Local\\Programs\\Python\\Python313\\Lib\\site-packages\\scanpy\\plotting\\_tools\\paga.py:519\u001b[39m, in \u001b[36mpaga\u001b[39m\u001b[34m(adata, threshold, color, layout, layout_kwds, init_pos, root, labels, single_component, solid_edges, dashed_edges, transitions, fontsize, fontweight, fontoutline, text_kwds, node_size_scale, node_size_power, edge_width_scale, min_edge_width, max_edge_width, arrowsize, title, left_margin, random_state, pos, normalize_to_color, cmap, cax, colorbar, cb_kwds, frameon, add_pos, export_to_gexf, use_raw, colors, groups, plot, show, save, ax)\u001b[39m\n\u001b[32m    515\u001b[39m     names_to_ixs = {\n\u001b[32m    516\u001b[39m         n: i \u001b[38;5;28;01mfor\u001b[39;00m i, n \u001b[38;5;129;01min\u001b[39;00m \u001b[38;5;28menumerate\u001b[39m(adata.obs[groups_key].cat.categories)\n\u001b[32m    517\u001b[39m     }\n\u001b[32m    518\u001b[39m     colors = {names_to_ixs.get(n, n): v \u001b[38;5;28;01mfor\u001b[39;00m n, v \u001b[38;5;129;01min\u001b[39;00m colors.items()}\n\u001b[32m--> \u001b[39m\u001b[32m519\u001b[39m \u001b[38;5;28;01mif\u001b[39;00m \u001b[43mis_flat\u001b[49m\u001b[43m(\u001b[49m\u001b[43mcolors\u001b[49m\u001b[43m)\u001b[49m:\n\u001b[32m    520\u001b[39m     colors = [colors]\n\u001b[32m    522\u001b[39m \u001b[38;5;28;01mif\u001b[39;00m frameon \u001b[38;5;129;01mis\u001b[39;00m \u001b[38;5;28;01mNone\u001b[39;00m:\n",
      "\u001b[36mFile \u001b[39m\u001b[32m~\\AppData\\Local\\Programs\\Python\\Python313\\Lib\\site-packages\\scanpy\\plotting\\_tools\\paga.py:509\u001b[39m, in \u001b[36mpaga.<locals>.is_flat\u001b[39m\u001b[34m(x)\u001b[39m\n\u001b[32m    507\u001b[39m \u001b[38;5;28;01mdef\u001b[39;00m\u001b[38;5;250m \u001b[39m\u001b[34mis_flat\u001b[39m(x):\n\u001b[32m    508\u001b[39m     has_one_per_category = \u001b[38;5;28misinstance\u001b[39m(x, Collection) \u001b[38;5;129;01mand\u001b[39;00m \u001b[38;5;28mlen\u001b[39m(x) == \u001b[38;5;28mlen\u001b[39m(\n\u001b[32m--> \u001b[39m\u001b[32m509\u001b[39m         \u001b[43madata\u001b[49m\u001b[43m.\u001b[49m\u001b[43mobs\u001b[49m\u001b[43m[\u001b[49m\u001b[43mgroups_key\u001b[49m\u001b[43m]\u001b[49m\u001b[43m.\u001b[49m\u001b[43mcat\u001b[49m.categories\n\u001b[32m    510\u001b[39m     )\n\u001b[32m    511\u001b[39m     \u001b[38;5;28;01mreturn\u001b[39;00m has_one_per_category \u001b[38;5;129;01mor\u001b[39;00m x \u001b[38;5;129;01mis\u001b[39;00m \u001b[38;5;28;01mNone\u001b[39;00m \u001b[38;5;129;01mor\u001b[39;00m \u001b[38;5;28misinstance\u001b[39m(x, \u001b[38;5;28mstr\u001b[39m)\n",
      "\u001b[36mFile \u001b[39m\u001b[32m~\\AppData\\Local\\Programs\\Python\\Python313\\Lib\\site-packages\\pandas\\core\\generic.py:6318\u001b[39m, in \u001b[36mNDFrame.__getattr__\u001b[39m\u001b[34m(self, name)\u001b[39m\n\u001b[32m   6311\u001b[39m \u001b[38;5;28;01mif\u001b[39;00m (\n\u001b[32m   6312\u001b[39m     name \u001b[38;5;129;01mnot\u001b[39;00m \u001b[38;5;129;01min\u001b[39;00m \u001b[38;5;28mself\u001b[39m._internal_names_set\n\u001b[32m   6313\u001b[39m     \u001b[38;5;129;01mand\u001b[39;00m name \u001b[38;5;129;01mnot\u001b[39;00m \u001b[38;5;129;01min\u001b[39;00m \u001b[38;5;28mself\u001b[39m._metadata\n\u001b[32m   6314\u001b[39m     \u001b[38;5;129;01mand\u001b[39;00m name \u001b[38;5;129;01mnot\u001b[39;00m \u001b[38;5;129;01min\u001b[39;00m \u001b[38;5;28mself\u001b[39m._accessors\n\u001b[32m   6315\u001b[39m     \u001b[38;5;129;01mand\u001b[39;00m \u001b[38;5;28mself\u001b[39m._info_axis._can_hold_identifiers_and_holds_name(name)\n\u001b[32m   6316\u001b[39m ):\n\u001b[32m   6317\u001b[39m     \u001b[38;5;28;01mreturn\u001b[39;00m \u001b[38;5;28mself\u001b[39m[name]\n\u001b[32m-> \u001b[39m\u001b[32m6318\u001b[39m \u001b[38;5;28;01mreturn\u001b[39;00m \u001b[38;5;28;43mobject\u001b[39;49m\u001b[43m.\u001b[49m\u001b[34;43m__getattribute__\u001b[39;49m\u001b[43m(\u001b[49m\u001b[38;5;28;43mself\u001b[39;49m\u001b[43m,\u001b[49m\u001b[43m \u001b[49m\u001b[43mname\u001b[49m\u001b[43m)\u001b[49m\n",
      "\u001b[36mFile \u001b[39m\u001b[32m~\\AppData\\Local\\Programs\\Python\\Python313\\Lib\\site-packages\\pandas\\core\\accessor.py:224\u001b[39m, in \u001b[36mCachedAccessor.__get__\u001b[39m\u001b[34m(self, obj, cls)\u001b[39m\n\u001b[32m    221\u001b[39m \u001b[38;5;28;01mif\u001b[39;00m obj \u001b[38;5;129;01mis\u001b[39;00m \u001b[38;5;28;01mNone\u001b[39;00m:\n\u001b[32m    222\u001b[39m     \u001b[38;5;66;03m# we're accessing the attribute of the class, i.e., Dataset.geo\u001b[39;00m\n\u001b[32m    223\u001b[39m     \u001b[38;5;28;01mreturn\u001b[39;00m \u001b[38;5;28mself\u001b[39m._accessor\n\u001b[32m--> \u001b[39m\u001b[32m224\u001b[39m accessor_obj = \u001b[38;5;28;43mself\u001b[39;49m\u001b[43m.\u001b[49m\u001b[43m_accessor\u001b[49m\u001b[43m(\u001b[49m\u001b[43mobj\u001b[49m\u001b[43m)\u001b[49m\n\u001b[32m    225\u001b[39m \u001b[38;5;66;03m# Replace the property with the accessor object. Inspired by:\u001b[39;00m\n\u001b[32m    226\u001b[39m \u001b[38;5;66;03m# https://www.pydanny.com/cached-property.html\u001b[39;00m\n\u001b[32m    227\u001b[39m \u001b[38;5;66;03m# We need to use object.__setattr__ because we overwrite __setattr__ on\u001b[39;00m\n\u001b[32m    228\u001b[39m \u001b[38;5;66;03m# NDFrame\u001b[39;00m\n\u001b[32m    229\u001b[39m \u001b[38;5;28mobject\u001b[39m.\u001b[34m__setattr__\u001b[39m(obj, \u001b[38;5;28mself\u001b[39m._name, accessor_obj)\n",
      "\u001b[36mFile \u001b[39m\u001b[32m~\\AppData\\Local\\Programs\\Python\\Python313\\Lib\\site-packages\\pandas\\core\\arrays\\categorical.py:2931\u001b[39m, in \u001b[36mCategoricalAccessor.__init__\u001b[39m\u001b[34m(self, data)\u001b[39m\n\u001b[32m   2930\u001b[39m \u001b[38;5;28;01mdef\u001b[39;00m\u001b[38;5;250m \u001b[39m\u001b[34m__init__\u001b[39m(\u001b[38;5;28mself\u001b[39m, data) -> \u001b[38;5;28;01mNone\u001b[39;00m:\n\u001b[32m-> \u001b[39m\u001b[32m2931\u001b[39m     \u001b[38;5;28;43mself\u001b[39;49m\u001b[43m.\u001b[49m\u001b[43m_validate\u001b[49m\u001b[43m(\u001b[49m\u001b[43mdata\u001b[49m\u001b[43m)\u001b[49m\n\u001b[32m   2932\u001b[39m     \u001b[38;5;28mself\u001b[39m._parent = data.values\n\u001b[32m   2933\u001b[39m     \u001b[38;5;28mself\u001b[39m._index = data.index\n",
      "\u001b[36mFile \u001b[39m\u001b[32m~\\AppData\\Local\\Programs\\Python\\Python313\\Lib\\site-packages\\pandas\\core\\arrays\\categorical.py:2940\u001b[39m, in \u001b[36mCategoricalAccessor._validate\u001b[39m\u001b[34m(data)\u001b[39m\n\u001b[32m   2937\u001b[39m \u001b[38;5;129m@staticmethod\u001b[39m\n\u001b[32m   2938\u001b[39m \u001b[38;5;28;01mdef\u001b[39;00m\u001b[38;5;250m \u001b[39m\u001b[34m_validate\u001b[39m(data):\n\u001b[32m   2939\u001b[39m     \u001b[38;5;28;01mif\u001b[39;00m \u001b[38;5;129;01mnot\u001b[39;00m \u001b[38;5;28misinstance\u001b[39m(data.dtype, CategoricalDtype):\n\u001b[32m-> \u001b[39m\u001b[32m2940\u001b[39m         \u001b[38;5;28;01mraise\u001b[39;00m \u001b[38;5;167;01mAttributeError\u001b[39;00m(\u001b[33m\"\u001b[39m\u001b[33mCan only use .cat accessor with a \u001b[39m\u001b[33m'\u001b[39m\u001b[33mcategory\u001b[39m\u001b[33m'\u001b[39m\u001b[33m dtype\u001b[39m\u001b[33m\"\u001b[39m)\n",
      "\u001b[31mAttributeError\u001b[39m: Can only use .cat accessor with a 'category' dtype"
     ]
    }
   ],
   "source": [
    "import scanpy as sc\n",
    "\n",
    "\n",
    "sc.set_figure_params(figsize=(5, 5), dpi=170)\n",
    "sc.pl.paga(adata_pt, \n",
    "           color='dpt_pseudotime', \n",
    "           node_size_scale=5, \n",
    "           edge_width_scale=1, \n",
    "           threshold=0.15, \n",
    "           cmap='viridis', \n",
    "           save='_PT_plot_no_labels_no_legend.png', \n",
    "           frameon=False, \n",
    "           labels=None,   \n",
    "           colorbar=False)  \n"
   ]
  },
  {
   "cell_type": "code",
   "execution_count": null,
   "id": "ff2f8dd0-af24-4431-82fb-58a3274d758c",
   "metadata": {},
   "outputs": [],
   "source": []
  }
 ],
 "metadata": {
  "kernelspec": {
   "display_name": "Python 3 (ipykernel)",
   "language": "python",
   "name": "python3"
  },
  "language_info": {
   "codemirror_mode": {
    "name": "ipython",
    "version": 3
   },
   "file_extension": ".py",
   "mimetype": "text/x-python",
   "name": "python",
   "nbconvert_exporter": "python",
   "pygments_lexer": "ipython3",
   "version": "3.13.6"
  }
 },
 "nbformat": 4,
 "nbformat_minor": 5
}
